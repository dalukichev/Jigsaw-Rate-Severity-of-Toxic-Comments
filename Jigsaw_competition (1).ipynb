{
  "cells": [
    {
      "cell_type": "code",
      "execution_count": null,
      "id": "dc75a304",
      "metadata": {
        "execution": {
          "iopub.execute_input": "2021-11-23T15:20:33.372372Z",
          "iopub.status.busy": "2021-11-23T15:20:33.371228Z",
          "iopub.status.idle": "2021-11-23T15:20:40.086554Z",
          "shell.execute_reply": "2021-11-23T15:20:40.087165Z",
          "shell.execute_reply.started": "2021-11-09T15:17:37.889514Z"
        },
        "id": "dc75a304",
        "papermill": {
          "duration": 6.74663,
          "end_time": "2021-11-23T15:20:40.087359",
          "exception": false,
          "start_time": "2021-11-23T15:20:33.340729",
          "status": "completed"
        },
        "tags": [],
        "outputId": "c492cd25-277f-48b3-bad9-f2e88cd86df8"
      },
      "outputs": [
        {
          "name": "stdout",
          "output_type": "stream",
          "text": [
            "Using device: cuda\n"
          ]
        }
      ],
      "source": [
        "import warnings\n",
        "import sklearn.exceptions\n",
        "warnings.filterwarnings('ignore', category=DeprecationWarning)\n",
        "warnings.filterwarnings('ignore', category=UserWarning)\n",
        "warnings.filterwarnings('ignore', category=FutureWarning)\n",
        "warnings.filterwarnings(\"ignore\", category=sklearn.exceptions.UndefinedMetricWarning)\n",
        "\n",
        "\n",
        "from tqdm.auto import tqdm\n",
        "from bs4 import BeautifulSoup\n",
        "from collections import defaultdict\n",
        "import pandas as pd\n",
        "import numpy as np\n",
        "import os\n",
        "import re\n",
        "import random\n",
        "import gc\n",
        "pd.set_option('display.max_columns', None)\n",
        "np.seterr(divide='ignore', invalid='ignore')\n",
        "gc.enable()\n",
        "\n",
        "\n",
        "import torch\n",
        "import torch.nn as nn\n",
        "import torch.nn.functional as F\n",
        "import torch.optim as optim\n",
        "from torch.utils.data import Dataset, DataLoader\n",
        "from torch.optim.lr_scheduler import OneCycleLR\n",
        "\n",
        "from transformers import AutoTokenizer, AutoModel\n",
        "\n",
        "\n",
        "RANDOM_SEED = 42\n",
        "\n",
        "def seed_everything(seed=RANDOM_SEED):\n",
        "    os.environ['PYTHONHASHSEED'] = str(seed)\n",
        "    np.random.seed(seed)\n",
        "    random.seed(seed)\n",
        "    torch.manual_seed(seed)\n",
        "    torch.cuda.manual_seed(seed)\n",
        "    torch.backends.cudnn.deterministic = True\n",
        "    torch.backends.cudnn.benchmark = True\n",
        "    \n",
        "seed_everything()\n",
        "\n",
        "if torch.cuda.is_available():\n",
        "    device = torch.device('cuda')\n",
        "else:\n",
        "    device = torch.device('cpu')\n",
        "    \n",
        "print(f'Using device: {device}')"
      ]
    },
    {
      "cell_type": "markdown",
      "id": "a05f9a7d",
      "metadata": {
        "id": "a05f9a7d",
        "papermill": {
          "duration": 0.020467,
          "end_time": "2021-11-23T15:20:40.129641",
          "exception": false,
          "start_time": "2021-11-23T15:20:40.109174",
          "status": "completed"
        },
        "tags": []
      },
      "source": [
        "# Загрузка данных"
      ]
    },
    {
      "cell_type": "code",
      "execution_count": null,
      "id": "b44e23a7",
      "metadata": {
        "execution": {
          "iopub.execute_input": "2021-11-23T15:20:40.175718Z",
          "iopub.status.busy": "2021-11-23T15:20:40.175011Z",
          "iopub.status.idle": "2021-11-23T15:20:40.177817Z",
          "shell.execute_reply": "2021-11-23T15:20:40.178413Z",
          "shell.execute_reply.started": "2021-11-09T15:17:44.999673Z"
        },
        "id": "b44e23a7",
        "papermill": {
          "duration": 0.028343,
          "end_time": "2021-11-23T15:20:40.178571",
          "exception": false,
          "start_time": "2021-11-23T15:20:40.150228",
          "status": "completed"
        },
        "tags": [],
        "outputId": "3a7f2e0b-5a3f-4c78-ec5c-6ca5a7638e1f"
      },
      "outputs": [
        {
          "name": "stdout",
          "output_type": "stream",
          "text": [
            "Train file: ../input/jrstc-train-folds/validation_data_5_folds.csv\n"
          ]
        }
      ],
      "source": [
        "data_dir = '../input/jrstc-train-folds'\n",
        "train_file_path = os.path.join(data_dir, 'validation_data_5_folds.csv')\n",
        "print(f'Train file: {train_file_path}')"
      ]
    },
    {
      "cell_type": "code",
      "execution_count": null,
      "id": "dd6d10e9",
      "metadata": {
        "execution": {
          "iopub.execute_input": "2021-11-23T15:20:40.224780Z",
          "iopub.status.busy": "2021-11-23T15:20:40.224277Z",
          "iopub.status.idle": "2021-11-23T15:20:40.841047Z",
          "shell.execute_reply": "2021-11-23T15:20:40.840527Z",
          "shell.execute_reply.started": "2021-11-09T15:17:45.010941Z"
        },
        "id": "dd6d10e9",
        "papermill": {
          "duration": 0.640827,
          "end_time": "2021-11-23T15:20:40.841192",
          "exception": false,
          "start_time": "2021-11-23T15:20:40.200365",
          "status": "completed"
        },
        "tags": []
      },
      "outputs": [],
      "source": [
        "train_df = pd.read_csv(train_file_path)"
      ]
    },
    {
      "cell_type": "markdown",
      "id": "3d8d75ae",
      "metadata": {
        "id": "3d8d75ae",
        "papermill": {
          "duration": 0.020638,
          "end_time": "2021-11-23T15:20:40.883095",
          "exception": false,
          "start_time": "2021-11-23T15:20:40.862457",
          "status": "completed"
        },
        "tags": []
      },
      "source": [
        "# Очистка данных"
      ]
    },
    {
      "cell_type": "code",
      "execution_count": null,
      "id": "747eb62d",
      "metadata": {
        "execution": {
          "iopub.execute_input": "2021-11-23T15:20:40.932306Z",
          "iopub.status.busy": "2021-11-23T15:20:40.931714Z",
          "iopub.status.idle": "2021-11-23T15:20:40.935577Z",
          "shell.execute_reply": "2021-11-23T15:20:40.935145Z",
          "shell.execute_reply.started": "2021-11-09T15:17:45.714907Z"
        },
        "id": "747eb62d",
        "papermill": {
          "duration": 0.031706,
          "end_time": "2021-11-23T15:20:40.935683",
          "exception": false,
          "start_time": "2021-11-23T15:20:40.903977",
          "status": "completed"
        },
        "tags": []
      },
      "outputs": [],
      "source": [
        "def text_cleaning(text):\n",
        "    template = re.compile(r'https?://\\S+|www\\.\\S+') \n",
        "    text = template.sub(r'', text)\n",
        "    \n",
        "    soup = BeautifulSoup(text, 'lxml')\n",
        "    only_text = soup.get_text()\n",
        "    text = only_text\n",
        "    \n",
        "    emoji_pattern = re.compile(\"[\"\n",
        "                               u\"\\U0001F600-\\U0001F64F\"  \n",
        "                               u\"\\U0001F300-\\U0001F5FF\"  \n",
        "                               u\"\\U0001F680-\\U0001F6FF\"  \n",
        "                               u\"\\U0001F1E0-\\U0001F1FF\"  \n",
        "                               u\"\\U00002702-\\U000027B0\"\n",
        "                               u\"\\U000024C2-\\U0001F251\"\n",
        "                               \"]+\", flags=re.UNICODE)\n",
        "    text = emoji_pattern.sub(r'', text)\n",
        "    \n",
        "    text = re.sub(r\"[^a-zA-Z\\d]\", \" \", text) \n",
        "    text = re.sub(' +', ' ', text) \n",
        "    text = text.strip() \n",
        "\n",
        "    return text"
      ]
    },
    {
      "cell_type": "code",
      "execution_count": null,
      "id": "8fada90f",
      "metadata": {
        "execution": {
          "iopub.execute_input": "2021-11-23T15:20:40.987648Z",
          "iopub.status.busy": "2021-11-23T15:20:40.986754Z",
          "iopub.status.idle": "2021-11-23T15:21:00.886371Z",
          "shell.execute_reply": "2021-11-23T15:21:00.885921Z",
          "shell.execute_reply.started": "2021-11-09T15:17:45.723958Z"
        },
        "id": "8fada90f",
        "papermill": {
          "duration": 19.929629,
          "end_time": "2021-11-23T15:21:00.886488",
          "exception": false,
          "start_time": "2021-11-23T15:20:40.956859",
          "status": "completed"
        },
        "tags": [],
        "colab": {
          "referenced_widgets": [
            "cd97937015014c6bb1e268b01332cf33",
            "5cf1a0ece9e54ab8a4a4dd7f0ccc5fb3"
          ]
        },
        "outputId": "cf0e9dbd-10d8-4577-b022-2afc315930f0"
      },
      "outputs": [
        {
          "data": {
            "application/vnd.jupyter.widget-view+json": {
              "model_id": "cd97937015014c6bb1e268b01332cf33",
              "version_major": 2,
              "version_minor": 0
            },
            "text/plain": [
              "  0%|          | 0/30108 [00:00<?, ?it/s]"
            ]
          },
          "metadata": {},
          "output_type": "display_data"
        },
        {
          "data": {
            "application/vnd.jupyter.widget-view+json": {
              "model_id": "5cf1a0ece9e54ab8a4a4dd7f0ccc5fb3",
              "version_major": 2,
              "version_minor": 0
            },
            "text/plain": [
              "  0%|          | 0/30108 [00:00<?, ?it/s]"
            ]
          },
          "metadata": {},
          "output_type": "display_data"
        }
      ],
      "source": [
        "tqdm.pandas()\n",
        "train_df['less_toxic'] = train_df['less_toxic'].progress_apply(text_cleaning)\n",
        "train_df['more_toxic'] = train_df['more_toxic'].progress_apply(text_cleaning)"
      ]
    },
    {
      "cell_type": "code",
      "execution_count": null,
      "id": "2c5455d5",
      "metadata": {
        "execution": {
          "iopub.execute_input": "2021-11-23T15:21:00.941373Z",
          "iopub.status.busy": "2021-11-23T15:21:00.935966Z",
          "iopub.status.idle": "2021-11-23T15:21:00.952135Z",
          "shell.execute_reply": "2021-11-23T15:21:00.952604Z",
          "shell.execute_reply.started": "2021-11-09T15:18:05.413272Z"
        },
        "id": "2c5455d5",
        "papermill": {
          "duration": 0.043879,
          "end_time": "2021-11-23T15:21:00.952741",
          "exception": false,
          "start_time": "2021-11-23T15:21:00.908862",
          "status": "completed"
        },
        "tags": [],
        "outputId": "c70dc643-e273-4b99-f6e5-ce36e3c5a146"
      },
      "outputs": [
        {
          "data": {
            "text/html": [
              "<div>\n",
              "<style scoped>\n",
              "    .dataframe tbody tr th:only-of-type {\n",
              "        vertical-align: middle;\n",
              "    }\n",
              "\n",
              "    .dataframe tbody tr th {\n",
              "        vertical-align: top;\n",
              "    }\n",
              "\n",
              "    .dataframe thead th {\n",
              "        text-align: right;\n",
              "    }\n",
              "</style>\n",
              "<table border=\"1\" class=\"dataframe\">\n",
              "  <thead>\n",
              "    <tr style=\"text-align: right;\">\n",
              "      <th></th>\n",
              "      <th>worker</th>\n",
              "      <th>less_toxic</th>\n",
              "      <th>more_toxic</th>\n",
              "      <th>kfold</th>\n",
              "    </tr>\n",
              "  </thead>\n",
              "  <tbody>\n",
              "    <tr>\n",
              "      <th>20578</th>\n",
              "      <td>56</td>\n",
              "      <td>of course it s nuclear any moron who has read ...</td>\n",
              "      <td>Unblock me now you piece of shit Or I will fin...</td>\n",
              "      <td>3</td>\n",
              "    </tr>\n",
              "    <tr>\n",
              "      <th>26465</th>\n",
              "      <td>446</td>\n",
              "      <td>Perspective In the trial Shylock represents th...</td>\n",
              "      <td>So apparently an inability to read can make yo...</td>\n",
              "      <td>4</td>\n",
              "    </tr>\n",
              "    <tr>\n",
              "      <th>28404</th>\n",
              "      <td>340</td>\n",
              "      <td>Oh really Well then stop making bullsht edits ...</td>\n",
              "      <td>I have corrected the section on Twin earth for...</td>\n",
              "      <td>4</td>\n",
              "    </tr>\n",
              "    <tr>\n",
              "      <th>19714</th>\n",
              "      <td>36</td>\n",
              "      <td>Please refrain from adding nonsense to Wikiped...</td>\n",
              "      <td>this page smells very bad</td>\n",
              "      <td>2</td>\n",
              "    </tr>\n",
              "    <tr>\n",
              "      <th>3752</th>\n",
              "      <td>441</td>\n",
              "      <td>Dear SchfiftyThree I would just like to say th...</td>\n",
              "      <td>TAKE YOUR JOB AS SERIOUSLY AS POSSIBLE YOU LOS...</td>\n",
              "      <td>0</td>\n",
              "    </tr>\n",
              "    <tr>\n",
              "      <th>20191</th>\n",
              "      <td>4</td>\n",
              "      <td>Wiki is a two way street deleting a post becau...</td>\n",
              "      <td>In actual fact Oh no not again is a four word ...</td>\n",
              "      <td>2</td>\n",
              "    </tr>\n",
              "    <tr>\n",
              "      <th>3518</th>\n",
              "      <td>682</td>\n",
              "      <td>Maybe we can get a vote I m flexible with my v...</td>\n",
              "      <td>Fuck off Wolfkeeper Talk</td>\n",
              "      <td>0</td>\n",
              "    </tr>\n",
              "    <tr>\n",
              "      <th>24602</th>\n",
              "      <td>200</td>\n",
              "      <td>Jew Marxist Raus Raus Raus</td>\n",
              "      <td>No MORON I am not admitting any of those thing...</td>\n",
              "      <td>4</td>\n",
              "    </tr>\n",
              "    <tr>\n",
              "      <th>13730</th>\n",
              "      <td>613</td>\n",
              "      <td>Rochester WIKI Hi Please stop putting that rid...</td>\n",
              "      <td>BITCH Your a bitch Why did you delete the Engl...</td>\n",
              "      <td>2</td>\n",
              "    </tr>\n",
              "    <tr>\n",
              "      <th>12554</th>\n",
              "      <td>725</td>\n",
              "      <td>I challenge you to present a shred of evidence...</td>\n",
              "      <td>How about you learn how to read and write duri...</td>\n",
              "      <td>1</td>\n",
              "    </tr>\n",
              "  </tbody>\n",
              "</table>\n",
              "</div>"
            ],
            "text/plain": [
              "       worker                                         less_toxic  \\\n",
              "20578      56  of course it s nuclear any moron who has read ...   \n",
              "26465     446  Perspective In the trial Shylock represents th...   \n",
              "28404     340  Oh really Well then stop making bullsht edits ...   \n",
              "19714      36  Please refrain from adding nonsense to Wikiped...   \n",
              "3752      441  Dear SchfiftyThree I would just like to say th...   \n",
              "20191       4  Wiki is a two way street deleting a post becau...   \n",
              "3518      682  Maybe we can get a vote I m flexible with my v...   \n",
              "24602     200                         Jew Marxist Raus Raus Raus   \n",
              "13730     613  Rochester WIKI Hi Please stop putting that rid...   \n",
              "12554     725  I challenge you to present a shred of evidence...   \n",
              "\n",
              "                                              more_toxic  kfold  \n",
              "20578  Unblock me now you piece of shit Or I will fin...      3  \n",
              "26465  So apparently an inability to read can make yo...      4  \n",
              "28404  I have corrected the section on Twin earth for...      4  \n",
              "19714                          this page smells very bad      2  \n",
              "3752   TAKE YOUR JOB AS SERIOUSLY AS POSSIBLE YOU LOS...      0  \n",
              "20191  In actual fact Oh no not again is a four word ...      2  \n",
              "3518                            Fuck off Wolfkeeper Talk      0  \n",
              "24602  No MORON I am not admitting any of those thing...      4  \n",
              "13730  BITCH Your a bitch Why did you delete the Engl...      2  \n",
              "12554  How about you learn how to read and write duri...      1  "
            ]
          },
          "execution_count": 7,
          "metadata": {},
          "output_type": "execute_result"
        }
      ],
      "source": [
        "train_df.sample(10)"
      ]
    },
    {
      "cell_type": "code",
      "execution_count": null,
      "id": "880316d1",
      "metadata": {
        "execution": {
          "iopub.execute_input": "2021-11-23T15:21:01.001273Z",
          "iopub.status.busy": "2021-11-23T15:21:01.000737Z",
          "iopub.status.idle": "2021-11-23T15:21:01.007265Z",
          "shell.execute_reply": "2021-11-23T15:21:01.007676Z",
          "shell.execute_reply.started": "2021-11-09T15:18:05.435536Z"
        },
        "id": "880316d1",
        "papermill": {
          "duration": 0.032871,
          "end_time": "2021-11-23T15:21:01.007804",
          "exception": false,
          "start_time": "2021-11-23T15:21:00.974933",
          "status": "completed"
        },
        "tags": [],
        "outputId": "ebe79b1a-b096-48e4-cfa5-0642a54caa3f"
      },
      "outputs": [
        {
          "data": {
            "text/plain": [
              "kfold\n",
              "0    6022\n",
              "1    6022\n",
              "2    6022\n",
              "3    6021\n",
              "4    6021\n",
              "dtype: int64"
            ]
          },
          "execution_count": 8,
          "metadata": {},
          "output_type": "execute_result"
        }
      ],
      "source": [
        "train_df.groupby(['kfold']).size()"
      ]
    },
    {
      "cell_type": "markdown",
      "id": "669f3cf0",
      "metadata": {
        "id": "669f3cf0",
        "papermill": {
          "duration": 0.022165,
          "end_time": "2021-11-23T15:21:01.052423",
          "exception": false,
          "start_time": "2021-11-23T15:21:01.030258",
          "status": "completed"
        },
        "tags": []
      },
      "source": [
        "# ROBERTa"
      ]
    },
    {
      "cell_type": "code",
      "execution_count": null,
      "id": "288a0950",
      "metadata": {
        "execution": {
          "iopub.execute_input": "2021-11-23T15:21:01.104067Z",
          "iopub.status.busy": "2021-11-23T15:21:01.099622Z",
          "iopub.status.idle": "2021-11-23T15:21:01.106304Z",
          "shell.execute_reply": "2021-11-23T15:21:01.106678Z",
          "shell.execute_reply.started": "2021-11-09T15:18:05.452399Z"
        },
        "id": "288a0950",
        "papermill": {
          "duration": 0.031911,
          "end_time": "2021-11-23T15:21:01.106798",
          "exception": false,
          "start_time": "2021-11-23T15:21:01.074887",
          "status": "completed"
        },
        "tags": []
      },
      "outputs": [],
      "source": [
        "params = {\n",
        "    'device': device,\n",
        "    'debug': False,\n",
        "    'checkpoint': 'roberta-base',\n",
        "    'output_logits': 768,\n",
        "    'max_len': 256,\n",
        "    'num_folds': train_df['kfold'].nunique(),\n",
        "    'batch_size': 16,\n",
        "    'dropout': 0.2,\n",
        "    'num_workers': 2,\n",
        "    'epochs': 3,\n",
        "    'lr': 2e-5,\n",
        "    'margin': 0.7,\n",
        "    'scheduler_name': 'OneCycleLR',\n",
        "    'max_lr': 5e-5,                 \n",
        "    'pct_start': 0.1,               \n",
        "    'anneal_strategy': 'cos',       \n",
        "    'div_factor': 1e3,              \n",
        "    'final_div_factor': 1e3,        \n",
        "    'no_decay': True\n",
        "}"
      ]
    },
    {
      "cell_type": "code",
      "execution_count": null,
      "id": "7b345ebf",
      "metadata": {
        "execution": {
          "iopub.execute_input": "2021-11-23T15:21:01.155676Z",
          "iopub.status.busy": "2021-11-23T15:21:01.154876Z",
          "iopub.status.idle": "2021-11-23T15:21:01.156755Z",
          "shell.execute_reply": "2021-11-23T15:21:01.157180Z",
          "shell.execute_reply.started": "2021-11-09T15:18:05.466063Z"
        },
        "id": "7b345ebf",
        "papermill": {
          "duration": 0.028098,
          "end_time": "2021-11-23T15:21:01.157305",
          "exception": false,
          "start_time": "2021-11-23T15:21:01.129207",
          "status": "completed"
        },
        "tags": []
      },
      "outputs": [],
      "source": [
        "if params['debug']:\n",
        "    train_df = train_df.sample(frac=0.01)\n",
        "    print('Reduced training Data Size for Debugging purposes')"
      ]
    },
    {
      "cell_type": "markdown",
      "id": "7b072b3b",
      "metadata": {
        "id": "7b072b3b",
        "papermill": {
          "duration": 0.024881,
          "end_time": "2021-11-23T15:21:01.205397",
          "exception": false,
          "start_time": "2021-11-23T15:21:01.180516",
          "status": "completed"
        },
        "tags": []
      },
      "source": [
        "# Создание датасета"
      ]
    },
    {
      "cell_type": "code",
      "execution_count": null,
      "id": "7fb18a54",
      "metadata": {
        "execution": {
          "iopub.execute_input": "2021-11-23T15:21:01.262791Z",
          "iopub.status.busy": "2021-11-23T15:21:01.261995Z",
          "iopub.status.idle": "2021-11-23T15:21:01.264429Z",
          "shell.execute_reply": "2021-11-23T15:21:01.263986Z",
          "shell.execute_reply.started": "2021-11-09T15:18:05.473755Z"
        },
        "id": "7fb18a54",
        "papermill": {
          "duration": 0.035959,
          "end_time": "2021-11-23T15:21:01.264529",
          "exception": false,
          "start_time": "2021-11-23T15:21:01.228570",
          "status": "completed"
        },
        "tags": []
      },
      "outputs": [],
      "source": [
        "class BERTDataset:\n",
        "    def __init__(self, more_toxic, less_toxic, max_len=params['max_len'], checkpoint=params['checkpoint']):\n",
        "        self.more_toxic = more_toxic\n",
        "        self.less_toxic = less_toxic\n",
        "        self.max_len = max_len\n",
        "        self.checkpoint = checkpoint\n",
        "        self.tokenizer = AutoTokenizer.from_pretrained(checkpoint)\n",
        "        self.num_examples = len(self.more_toxic)\n",
        "\n",
        "    def __len__(self):\n",
        "        return self.num_examples\n",
        "\n",
        "    def __getitem__(self, idx):\n",
        "        more_toxic = str(self.more_toxic[idx])\n",
        "        less_toxic = str(self.less_toxic[idx])\n",
        "\n",
        "        tokenized_more_toxic = self.tokenizer(\n",
        "            more_toxic,\n",
        "            add_special_tokens=True,\n",
        "            truncation=True,\n",
        "            padding='max_length',\n",
        "            max_length=self.max_len,\n",
        "            return_attention_mask=True,\n",
        "            return_token_type_ids=True,\n",
        "        )\n",
        "\n",
        "        tokenized_less_toxic = self.tokenizer(\n",
        "            less_toxic,\n",
        "            add_special_tokens=True,\n",
        "            truncation=True,\n",
        "            padding='max_length',\n",
        "            max_length=self.max_len,\n",
        "            return_attention_mask=True,\n",
        "            return_token_type_ids=True,\n",
        "        )\n",
        "\n",
        "        ids_more_toxic = tokenized_more_toxic['input_ids']\n",
        "        mask_more_toxic = tokenized_more_toxic['attention_mask']\n",
        "        token_type_ids_more_toxic = tokenized_more_toxic['token_type_ids']\n",
        "\n",
        "        ids_less_toxic = tokenized_less_toxic['input_ids']\n",
        "        mask_less_toxic = tokenized_less_toxic['attention_mask']\n",
        "        token_type_ids_less_toxic = tokenized_less_toxic['token_type_ids']\n",
        "\n",
        "        return {'ids_more_toxic': torch.tensor(ids_more_toxic, dtype=torch.long),\n",
        "                'mask_more_toxic': torch.tensor(mask_more_toxic, dtype=torch.long),\n",
        "                'token_type_ids_more_toxic': torch.tensor(token_type_ids_more_toxic, dtype=torch.long),\n",
        "                'ids_less_toxic': torch.tensor(ids_less_toxic, dtype=torch.long),\n",
        "                'mask_less_toxic': torch.tensor(mask_less_toxic, dtype=torch.long),\n",
        "                'token_type_ids_less_toxic': torch.tensor(token_type_ids_less_toxic, dtype=torch.long),\n",
        "                'target': torch.tensor(1, dtype=torch.float)}"
      ]
    },
    {
      "cell_type": "markdown",
      "id": "bef99bcf",
      "metadata": {
        "id": "bef99bcf",
        "papermill": {
          "duration": 0.022228,
          "end_time": "2021-11-23T15:21:01.309055",
          "exception": false,
          "start_time": "2021-11-23T15:21:01.286827",
          "status": "completed"
        },
        "tags": []
      },
      "source": [
        "# Скедулер"
      ]
    },
    {
      "cell_type": "code",
      "execution_count": null,
      "id": "85ee466f",
      "metadata": {
        "execution": {
          "iopub.execute_input": "2021-11-23T15:21:01.360507Z",
          "iopub.status.busy": "2021-11-23T15:21:01.359709Z",
          "iopub.status.idle": "2021-11-23T15:21:01.361653Z",
          "shell.execute_reply": "2021-11-23T15:21:01.362108Z",
          "shell.execute_reply.started": "2021-11-09T15:18:05.489365Z"
        },
        "id": "85ee466f",
        "papermill": {
          "duration": 0.030579,
          "end_time": "2021-11-23T15:21:01.362230",
          "exception": false,
          "start_time": "2021-11-23T15:21:01.331651",
          "status": "completed"
        },
        "tags": []
      },
      "outputs": [],
      "source": [
        "def get_scheduler(optimizer, scheduler_params=params):\n",
        "    if scheduler_params['scheduler_name'] == 'CosineAnnealingWarmRestarts':\n",
        "        scheduler = CosineAnnealingWarmRestarts(\n",
        "            optimizer,\n",
        "            T_0=scheduler_params['T_0'],\n",
        "            eta_min=scheduler_params['min_lr'],\n",
        "            last_epoch=-1\n",
        "        )\n",
        "    elif scheduler_params['scheduler_name'] == 'OneCycleLR':\n",
        "        scheduler = OneCycleLR(\n",
        "            optimizer,\n",
        "            max_lr=scheduler_params['max_lr'],\n",
        "            steps_per_epoch=int(df_train.shape[0] / params['batch_size']) + 1,\n",
        "            epochs=scheduler_params['epochs'],\n",
        "            pct_start=scheduler_params['pct_start'],\n",
        "            anneal_strategy=scheduler_params['anneal_strategy'],\n",
        "            div_factor=scheduler_params['div_factor'],\n",
        "            final_div_factor=scheduler_params['final_div_factor'],\n",
        "        )\n",
        "    return scheduler"
      ]
    },
    {
      "cell_type": "markdown",
      "id": "eae72406",
      "metadata": {
        "id": "eae72406",
        "papermill": {
          "duration": 0.022073,
          "end_time": "2021-11-23T15:21:01.406755",
          "exception": false,
          "start_time": "2021-11-23T15:21:01.384682",
          "status": "completed"
        },
        "tags": []
      },
      "source": [
        "# Метрика"
      ]
    },
    {
      "cell_type": "code",
      "execution_count": null,
      "id": "7ddd6637",
      "metadata": {
        "execution": {
          "iopub.execute_input": "2021-11-23T15:21:01.459416Z",
          "iopub.status.busy": "2021-11-23T15:21:01.458621Z",
          "iopub.status.idle": "2021-11-23T15:21:01.461152Z",
          "shell.execute_reply": "2021-11-23T15:21:01.460672Z",
          "shell.execute_reply.started": "2021-11-09T15:18:05.500343Z"
        },
        "id": "7ddd6637",
        "papermill": {
          "duration": 0.032257,
          "end_time": "2021-11-23T15:21:01.461267",
          "exception": false,
          "start_time": "2021-11-23T15:21:01.429010",
          "status": "completed"
        },
        "tags": []
      },
      "outputs": [],
      "source": [
        "class MetricMonitor:\n",
        "    def __init__(self, float_precision=4):\n",
        "        self.float_precision = float_precision\n",
        "        self.reset()\n",
        "\n",
        "    def reset(self):\n",
        "        self.metrics = defaultdict(lambda: {\"val\": 0, \"count\": 0, \"avg\": 0})\n",
        "\n",
        "    def update(self, metric_name, val):\n",
        "        metric = self.metrics[metric_name]\n",
        "\n",
        "        metric[\"val\"] += val\n",
        "        metric[\"count\"] += 1\n",
        "        metric[\"avg\"] = metric[\"val\"] / metric[\"count\"]\n",
        "\n",
        "    def __str__(self):\n",
        "        return \" | \".join(\n",
        "            [\n",
        "                \"{metric_name}: {avg:.{float_precision}f}\".format(\n",
        "                    metric_name=metric_name, avg=metric[\"avg\"],\n",
        "                    float_precision=self.float_precision\n",
        "                )\n",
        "                for (metric_name, metric) in self.metrics.items()\n",
        "            ]\n",
        "        )"
      ]
    },
    {
      "cell_type": "markdown",
      "id": "a0bce360",
      "metadata": {
        "id": "a0bce360",
        "papermill": {
          "duration": 0.022148,
          "end_time": "2021-11-23T15:21:01.505790",
          "exception": false,
          "start_time": "2021-11-23T15:21:01.483642",
          "status": "completed"
        },
        "tags": []
      },
      "source": [
        "# Модель"
      ]
    },
    {
      "cell_type": "code",
      "execution_count": null,
      "id": "7ab3b61c",
      "metadata": {
        "execution": {
          "iopub.execute_input": "2021-11-23T15:21:01.559035Z",
          "iopub.status.busy": "2021-11-23T15:21:01.558204Z",
          "iopub.status.idle": "2021-11-23T15:21:01.560180Z",
          "shell.execute_reply": "2021-11-23T15:21:01.560589Z",
          "shell.execute_reply.started": "2021-11-09T15:18:05.51128Z"
        },
        "id": "7ab3b61c",
        "papermill": {
          "duration": 0.032531,
          "end_time": "2021-11-23T15:21:01.560713",
          "exception": false,
          "start_time": "2021-11-23T15:21:01.528182",
          "status": "completed"
        },
        "tags": []
      },
      "outputs": [],
      "source": [
        "class ToxicityModel(nn.Module):\n",
        "    def __init__(self, checkpoint=params['checkpoint'], params=params):\n",
        "        super(ToxicityModel, self).__init__()\n",
        "        self.checkpoint = checkpoint\n",
        "        self.bert = AutoModel.from_pretrained(checkpoint, return_dict=False)\n",
        "        self.layer_norm = nn.LayerNorm(params['output_logits'])\n",
        "        self.dropout = nn.Dropout(params['dropout'])\n",
        "        self.dense = nn.Sequential(\n",
        "            nn.Linear(params['output_logits'], 128),\n",
        "            nn.SiLU(),\n",
        "            nn.Dropout(params['dropout']),\n",
        "            nn.Linear(128, 1)\n",
        "        )\n",
        "\n",
        "    def forward(self, input_ids, token_type_ids, attention_mask):\n",
        "        _, pooled_output = self.bert(input_ids=input_ids, token_type_ids=token_type_ids, attention_mask=attention_mask)\n",
        "        pooled_output = self.layer_norm(pooled_output)\n",
        "        pooled_output = self.dropout(pooled_output)\n",
        "        preds = self.dense(pooled_output)\n",
        "        return preds"
      ]
    },
    {
      "cell_type": "markdown",
      "id": "31bd12b0",
      "metadata": {
        "id": "31bd12b0",
        "papermill": {
          "duration": 0.022626,
          "end_time": "2021-11-23T15:21:01.605906",
          "exception": false,
          "start_time": "2021-11-23T15:21:01.583280",
          "status": "completed"
        },
        "tags": []
      },
      "source": [
        "# Тренировка и валидация"
      ]
    },
    {
      "cell_type": "markdown",
      "id": "5be0b124",
      "metadata": {
        "id": "5be0b124",
        "papermill": {
          "duration": 0.022039,
          "end_time": "2021-11-23T15:21:01.650204",
          "exception": false,
          "start_time": "2021-11-23T15:21:01.628165",
          "status": "completed"
        },
        "tags": []
      },
      "source": [
        "## 1. Тренировка"
      ]
    },
    {
      "cell_type": "code",
      "execution_count": null,
      "id": "2276c5bd",
      "metadata": {
        "execution": {
          "iopub.execute_input": "2021-11-23T15:21:01.705351Z",
          "iopub.status.busy": "2021-11-23T15:21:01.704534Z",
          "iopub.status.idle": "2021-11-23T15:21:01.707176Z",
          "shell.execute_reply": "2021-11-23T15:21:01.706679Z",
          "shell.execute_reply.started": "2021-11-09T15:18:05.523615Z"
        },
        "id": "2276c5bd",
        "papermill": {
          "duration": 0.034226,
          "end_time": "2021-11-23T15:21:01.707288",
          "exception": false,
          "start_time": "2021-11-23T15:21:01.673062",
          "status": "completed"
        },
        "tags": []
      },
      "outputs": [],
      "source": [
        "def train_fn(train_loader, model, criterion, optimizer, epoch, params, scheduler=None):\n",
        "    metric_monitor = MetricMonitor()\n",
        "    model.train()\n",
        "    stream = tqdm(train_loader)\n",
        "    \n",
        "    for i, batch in enumerate(stream, start=1):\n",
        "        ids_more_toxic = batch['ids_more_toxic'].to(device)\n",
        "        mask_more_toxic = batch['mask_more_toxic'].to(device)\n",
        "        token_type_ids_more_toxic = batch['token_type_ids_more_toxic'].to(device)\n",
        "        ids_less_toxic = batch['ids_less_toxic'].to(device)\n",
        "        mask_less_toxic = batch['mask_less_toxic'].to(device)\n",
        "        token_type_ids_less_toxic = batch['token_type_ids_less_toxic'].to(device)\n",
        "        target = batch['target'].to(device)\n",
        "\n",
        "        logits_more_toxic = model(ids_more_toxic, token_type_ids_more_toxic, mask_more_toxic)\n",
        "        logits_less_toxic = model(ids_less_toxic, token_type_ids_less_toxic, mask_less_toxic)\n",
        "        loss = criterion(logits_more_toxic, logits_less_toxic, target)\n",
        "        metric_monitor.update('Loss', loss.item())\n",
        "        loss.backward()\n",
        "        optimizer.step()\n",
        "            \n",
        "        if scheduler is not None:\n",
        "            scheduler.step()\n",
        "        \n",
        "        optimizer.zero_grad()\n",
        "        stream.set_description(f\"Epoch: {epoch:02}. Train. {metric_monitor}\")"
      ]
    },
    {
      "cell_type": "markdown",
      "id": "aba94c0f",
      "metadata": {
        "id": "aba94c0f",
        "papermill": {
          "duration": 0.022852,
          "end_time": "2021-11-23T15:21:01.753311",
          "exception": false,
          "start_time": "2021-11-23T15:21:01.730459",
          "status": "completed"
        },
        "tags": []
      },
      "source": [
        "## 2. Валидация"
      ]
    },
    {
      "cell_type": "code",
      "execution_count": null,
      "id": "8362fdd8",
      "metadata": {
        "execution": {
          "iopub.execute_input": "2021-11-23T15:21:01.806649Z",
          "iopub.status.busy": "2021-11-23T15:21:01.805801Z",
          "iopub.status.idle": "2021-11-23T15:21:01.807604Z",
          "shell.execute_reply": "2021-11-23T15:21:01.808086Z",
          "shell.execute_reply.started": "2021-11-09T15:18:05.535107Z"
        },
        "id": "8362fdd8",
        "papermill": {
          "duration": 0.032495,
          "end_time": "2021-11-23T15:21:01.808212",
          "exception": false,
          "start_time": "2021-11-23T15:21:01.775717",
          "status": "completed"
        },
        "tags": []
      },
      "outputs": [],
      "source": [
        "def validate_fn(val_loader, model, criterion, epoch, params):\n",
        "    metric_monitor = MetricMonitor()\n",
        "    model.eval()\n",
        "    stream = tqdm(val_loader)\n",
        "    all_loss = []\n",
        "    with torch.no_grad():\n",
        "        for i, batch in enumerate(stream, start=1):\n",
        "            ids_more_toxic = batch['ids_more_toxic'].to(device)\n",
        "            mask_more_toxic = batch['mask_more_toxic'].to(device)\n",
        "            token_type_ids_more_toxic = batch['token_type_ids_more_toxic'].to(device)\n",
        "            ids_less_toxic = batch['ids_less_toxic'].to(device)\n",
        "            mask_less_toxic = batch['mask_less_toxic'].to(device)\n",
        "            token_type_ids_less_toxic = batch['token_type_ids_less_toxic'].to(device)\n",
        "            target = batch['target'].to(device)\n",
        "\n",
        "            logits_more_toxic = model(ids_more_toxic, token_type_ids_more_toxic, mask_more_toxic)\n",
        "            logits_less_toxic = model(ids_less_toxic, token_type_ids_less_toxic, mask_less_toxic)\n",
        "            loss = criterion(logits_more_toxic, logits_less_toxic, target)\n",
        "            all_loss.append(loss.item())\n",
        "            metric_monitor.update('Loss', loss.item())\n",
        "            stream.set_description(f\"Epoch: {epoch:02}. Valid. {metric_monitor}\")\n",
        "            \n",
        "    return np.mean(all_loss)"
      ]
    },
    {
      "cell_type": "markdown",
      "id": "b53a4111",
      "metadata": {
        "id": "b53a4111",
        "papermill": {
          "duration": 0.022257,
          "end_time": "2021-11-23T15:21:01.852872",
          "exception": false,
          "start_time": "2021-11-23T15:21:01.830615",
          "status": "completed"
        },
        "tags": []
      },
      "source": [
        "# Запуск"
      ]
    },
    {
      "cell_type": "code",
      "execution_count": null,
      "id": "126ab39a",
      "metadata": {
        "execution": {
          "iopub.execute_input": "2021-11-23T15:21:01.901431Z",
          "iopub.status.busy": "2021-11-23T15:21:01.900681Z",
          "iopub.status.idle": "2021-11-23T15:21:01.903125Z",
          "shell.execute_reply": "2021-11-23T15:21:01.902651Z",
          "shell.execute_reply.started": "2021-11-09T15:18:05.547058Z"
        },
        "id": "126ab39a",
        "papermill": {
          "duration": 0.028048,
          "end_time": "2021-11-23T15:21:01.903230",
          "exception": false,
          "start_time": "2021-11-23T15:21:01.875182",
          "status": "completed"
        },
        "tags": []
      },
      "outputs": [],
      "source": [
        "best_models_of_each_fold = []"
      ]
    },
    {
      "cell_type": "code",
      "execution_count": null,
      "id": "7501f39f",
      "metadata": {
        "_kg_hide-output": true,
        "execution": {
          "iopub.execute_input": "2021-11-23T15:21:02.142746Z",
          "iopub.status.busy": "2021-11-23T15:21:02.141675Z",
          "iopub.status.idle": "2021-11-23T20:49:28.387740Z",
          "shell.execute_reply": "2021-11-23T20:49:28.387208Z",
          "shell.execute_reply.started": "2021-11-09T15:18:05.557598Z"
        },
        "id": "7501f39f",
        "papermill": {
          "duration": 19706.462161,
          "end_time": "2021-11-23T20:49:28.387913",
          "exception": false,
          "start_time": "2021-11-23T15:21:01.925752",
          "status": "completed"
        },
        "tags": [],
        "colab": {
          "referenced_widgets": [
            "c3fa4a44fc144a3295c5b6cd76f6e1cf",
            "274c4371532640678287f7879b796fff",
            "a28ea82cea4047fba457b4e9bfbff147",
            "0d5a597239c14385b0b33c74254b25a4",
            "a19fdede408d4a0aaa802464b6b5e243",
            "104168e45a22453b8b04b4ae3cc1ca84",
            "f4b0f052f04349f7bcfec6c01f1c1de2",
            "cb130673847e482ead0192cfb9ddee0d",
            "2e0959cecb6e458689cca8ebbd0d889a",
            "f6085d0aae914b53bb8705c79e358d44",
            "a24f071f119943ddb99848624afb36d1",
            "8661486bc1564f3182aad38cd62d0741",
            "a8835f1896894cb29ac5b94ee170f8c3",
            "bd19f88cb50244c1924bd9cc7b9c0c0c",
            "21af84a8d9c04bce966f2d606cfc1d6b",
            "2cd8e98ec6804cbd83598662a15ada27",
            "6b42cc31e1be4beeaed1b0c07ff11144",
            "aab06f7a3d864adca3b2fb1ae48d786e",
            "d1d691715cad46609f4ba2933254e389",
            "718ea880a9a14acb9d61d09a3af965ce",
            "96565a0c018a4605a2bc95a6274fb117",
            "3208a50d911f4d79932b78a7d9b1767c",
            "d593d3a71eff46b08b94a6d6e3edca30",
            "a59ebe8e7815474f9244d055528fad63",
            "1252dc5af66b4b4cab359f48ca4f6fe7",
            "0dab4ef049924b108cac3a484257b1ec",
            "bf81afdf47c2463ab8f23730121ec157",
            "cc48f20ed5514d42bc52ef66ef60b167",
            "5cc3a898b0254dc997051ccbf6962167",
            "b3a32ae21dc249ca83d614b7057984e4",
            "8068f8def8af46be86fa387d56e725f2",
            "6226e62a7eee484a94301e47efce3a87",
            "6781b8b53f3342509cf5865ce6966b35",
            "fbb29f6c0dcf4472a440c683ccd5bcea",
            "084a3c783af24cc08b923831e3e9f10d"
          ]
        },
        "outputId": "ac52095f-a853-4a6b-bfed-309b442eed05"
      },
      "outputs": [
        {
          "name": "stdout",
          "output_type": "stream",
          "text": [
            "******************** Training Fold: 1 ********************\n"
          ]
        },
        {
          "data": {
            "application/vnd.jupyter.widget-view+json": {
              "model_id": "c3fa4a44fc144a3295c5b6cd76f6e1cf",
              "version_major": 2,
              "version_minor": 0
            },
            "text/plain": [
              "Downloading:   0%|          | 0.00/481 [00:00<?, ?B/s]"
            ]
          },
          "metadata": {},
          "output_type": "display_data"
        },
        {
          "data": {
            "application/vnd.jupyter.widget-view+json": {
              "model_id": "274c4371532640678287f7879b796fff",
              "version_major": 2,
              "version_minor": 0
            },
            "text/plain": [
              "Downloading:   0%|          | 0.00/899k [00:00<?, ?B/s]"
            ]
          },
          "metadata": {},
          "output_type": "display_data"
        },
        {
          "data": {
            "application/vnd.jupyter.widget-view+json": {
              "model_id": "a28ea82cea4047fba457b4e9bfbff147",
              "version_major": 2,
              "version_minor": 0
            },
            "text/plain": [
              "Downloading:   0%|          | 0.00/456k [00:00<?, ?B/s]"
            ]
          },
          "metadata": {},
          "output_type": "display_data"
        },
        {
          "data": {
            "application/vnd.jupyter.widget-view+json": {
              "model_id": "0d5a597239c14385b0b33c74254b25a4",
              "version_major": 2,
              "version_minor": 0
            },
            "text/plain": [
              "Downloading:   0%|          | 0.00/1.36M [00:00<?, ?B/s]"
            ]
          },
          "metadata": {},
          "output_type": "display_data"
        },
        {
          "data": {
            "application/vnd.jupyter.widget-view+json": {
              "model_id": "a19fdede408d4a0aaa802464b6b5e243",
              "version_major": 2,
              "version_minor": 0
            },
            "text/plain": [
              "Downloading:   0%|          | 0.00/501M [00:00<?, ?B/s]"
            ]
          },
          "metadata": {},
          "output_type": "display_data"
        },
        {
          "data": {
            "application/vnd.jupyter.widget-view+json": {
              "model_id": "104168e45a22453b8b04b4ae3cc1ca84",
              "version_major": 2,
              "version_minor": 0
            },
            "text/plain": [
              "  0%|          | 0/1506 [00:00<?, ?it/s]"
            ]
          },
          "metadata": {},
          "output_type": "display_data"
        },
        {
          "data": {
            "application/vnd.jupyter.widget-view+json": {
              "model_id": "f4b0f052f04349f7bcfec6c01f1c1de2",
              "version_major": 2,
              "version_minor": 0
            },
            "text/plain": [
              "  0%|          | 0/189 [00:00<?, ?it/s]"
            ]
          },
          "metadata": {},
          "output_type": "display_data"
        },
        {
          "data": {
            "application/vnd.jupyter.widget-view+json": {
              "model_id": "cb130673847e482ead0192cfb9ddee0d",
              "version_major": 2,
              "version_minor": 0
            },
            "text/plain": [
              "  0%|          | 0/1506 [00:00<?, ?it/s]"
            ]
          },
          "metadata": {},
          "output_type": "display_data"
        },
        {
          "data": {
            "application/vnd.jupyter.widget-view+json": {
              "model_id": "2e0959cecb6e458689cca8ebbd0d889a",
              "version_major": 2,
              "version_minor": 0
            },
            "text/plain": [
              "  0%|          | 0/189 [00:00<?, ?it/s]"
            ]
          },
          "metadata": {},
          "output_type": "display_data"
        },
        {
          "data": {
            "application/vnd.jupyter.widget-view+json": {
              "model_id": "f6085d0aae914b53bb8705c79e358d44",
              "version_major": 2,
              "version_minor": 0
            },
            "text/plain": [
              "  0%|          | 0/1506 [00:00<?, ?it/s]"
            ]
          },
          "metadata": {},
          "output_type": "display_data"
        },
        {
          "data": {
            "application/vnd.jupyter.widget-view+json": {
              "model_id": "a24f071f119943ddb99848624afb36d1",
              "version_major": 2,
              "version_minor": 0
            },
            "text/plain": [
              "  0%|          | 0/189 [00:00<?, ?it/s]"
            ]
          },
          "metadata": {},
          "output_type": "display_data"
        },
        {
          "name": "stdout",
          "output_type": "stream",
          "text": [
            "\n",
            "The best LOSS: 0.48714220381918405 for fold 1 was achieved on epoch: 2.\n",
            "The Best saved model is: roberta-base_2_epoch_f1.pth\n",
            "******************** Training Fold: 2 ********************\n"
          ]
        },
        {
          "data": {
            "application/vnd.jupyter.widget-view+json": {
              "model_id": "8661486bc1564f3182aad38cd62d0741",
              "version_major": 2,
              "version_minor": 0
            },
            "text/plain": [
              "  0%|          | 0/1506 [00:00<?, ?it/s]"
            ]
          },
          "metadata": {},
          "output_type": "display_data"
        },
        {
          "data": {
            "application/vnd.jupyter.widget-view+json": {
              "model_id": "a8835f1896894cb29ac5b94ee170f8c3",
              "version_major": 2,
              "version_minor": 0
            },
            "text/plain": [
              "  0%|          | 0/189 [00:00<?, ?it/s]"
            ]
          },
          "metadata": {},
          "output_type": "display_data"
        },
        {
          "data": {
            "application/vnd.jupyter.widget-view+json": {
              "model_id": "bd19f88cb50244c1924bd9cc7b9c0c0c",
              "version_major": 2,
              "version_minor": 0
            },
            "text/plain": [
              "  0%|          | 0/1506 [00:00<?, ?it/s]"
            ]
          },
          "metadata": {},
          "output_type": "display_data"
        },
        {
          "data": {
            "application/vnd.jupyter.widget-view+json": {
              "model_id": "21af84a8d9c04bce966f2d606cfc1d6b",
              "version_major": 2,
              "version_minor": 0
            },
            "text/plain": [
              "  0%|          | 0/189 [00:00<?, ?it/s]"
            ]
          },
          "metadata": {},
          "output_type": "display_data"
        },
        {
          "data": {
            "application/vnd.jupyter.widget-view+json": {
              "model_id": "2cd8e98ec6804cbd83598662a15ada27",
              "version_major": 2,
              "version_minor": 0
            },
            "text/plain": [
              "  0%|          | 0/1506 [00:00<?, ?it/s]"
            ]
          },
          "metadata": {},
          "output_type": "display_data"
        },
        {
          "data": {
            "application/vnd.jupyter.widget-view+json": {
              "model_id": "6b42cc31e1be4beeaed1b0c07ff11144",
              "version_major": 2,
              "version_minor": 0
            },
            "text/plain": [
              "  0%|          | 0/189 [00:00<?, ?it/s]"
            ]
          },
          "metadata": {},
          "output_type": "display_data"
        },
        {
          "name": "stdout",
          "output_type": "stream",
          "text": [
            "\n",
            "The best LOSS: 0.4678449454919371 for fold 2 was achieved on epoch: 1.\n",
            "The Best saved model is: roberta-base_1_epoch_f2.pth\n",
            "******************** Training Fold: 3 ********************\n"
          ]
        },
        {
          "data": {
            "application/vnd.jupyter.widget-view+json": {
              "model_id": "aab06f7a3d864adca3b2fb1ae48d786e",
              "version_major": 2,
              "version_minor": 0
            },
            "text/plain": [
              "  0%|          | 0/1506 [00:00<?, ?it/s]"
            ]
          },
          "metadata": {},
          "output_type": "display_data"
        },
        {
          "data": {
            "application/vnd.jupyter.widget-view+json": {
              "model_id": "d1d691715cad46609f4ba2933254e389",
              "version_major": 2,
              "version_minor": 0
            },
            "text/plain": [
              "  0%|          | 0/189 [00:00<?, ?it/s]"
            ]
          },
          "metadata": {},
          "output_type": "display_data"
        },
        {
          "data": {
            "application/vnd.jupyter.widget-view+json": {
              "model_id": "718ea880a9a14acb9d61d09a3af965ce",
              "version_major": 2,
              "version_minor": 0
            },
            "text/plain": [
              "  0%|          | 0/1506 [00:00<?, ?it/s]"
            ]
          },
          "metadata": {},
          "output_type": "display_data"
        },
        {
          "data": {
            "application/vnd.jupyter.widget-view+json": {
              "model_id": "96565a0c018a4605a2bc95a6274fb117",
              "version_major": 2,
              "version_minor": 0
            },
            "text/plain": [
              "  0%|          | 0/189 [00:00<?, ?it/s]"
            ]
          },
          "metadata": {},
          "output_type": "display_data"
        },
        {
          "data": {
            "application/vnd.jupyter.widget-view+json": {
              "model_id": "3208a50d911f4d79932b78a7d9b1767c",
              "version_major": 2,
              "version_minor": 0
            },
            "text/plain": [
              "  0%|          | 0/1506 [00:00<?, ?it/s]"
            ]
          },
          "metadata": {},
          "output_type": "display_data"
        },
        {
          "data": {
            "application/vnd.jupyter.widget-view+json": {
              "model_id": "d593d3a71eff46b08b94a6d6e3edca30",
              "version_major": 2,
              "version_minor": 0
            },
            "text/plain": [
              "  0%|          | 0/189 [00:00<?, ?it/s]"
            ]
          },
          "metadata": {},
          "output_type": "display_data"
        },
        {
          "name": "stdout",
          "output_type": "stream",
          "text": [
            "\n",
            "The best LOSS: 0.47333391034413896 for fold 3 was achieved on epoch: 2.\n",
            "The Best saved model is: roberta-base_2_epoch_f3.pth\n",
            "******************** Training Fold: 4 ********************\n"
          ]
        },
        {
          "data": {
            "application/vnd.jupyter.widget-view+json": {
              "model_id": "a59ebe8e7815474f9244d055528fad63",
              "version_major": 2,
              "version_minor": 0
            },
            "text/plain": [
              "  0%|          | 0/1506 [00:00<?, ?it/s]"
            ]
          },
          "metadata": {},
          "output_type": "display_data"
        },
        {
          "data": {
            "application/vnd.jupyter.widget-view+json": {
              "model_id": "1252dc5af66b4b4cab359f48ca4f6fe7",
              "version_major": 2,
              "version_minor": 0
            },
            "text/plain": [
              "  0%|          | 0/189 [00:00<?, ?it/s]"
            ]
          },
          "metadata": {},
          "output_type": "display_data"
        },
        {
          "data": {
            "application/vnd.jupyter.widget-view+json": {
              "model_id": "0dab4ef049924b108cac3a484257b1ec",
              "version_major": 2,
              "version_minor": 0
            },
            "text/plain": [
              "  0%|          | 0/1506 [00:00<?, ?it/s]"
            ]
          },
          "metadata": {},
          "output_type": "display_data"
        },
        {
          "data": {
            "application/vnd.jupyter.widget-view+json": {
              "model_id": "bf81afdf47c2463ab8f23730121ec157",
              "version_major": 2,
              "version_minor": 0
            },
            "text/plain": [
              "  0%|          | 0/189 [00:00<?, ?it/s]"
            ]
          },
          "metadata": {},
          "output_type": "display_data"
        },
        {
          "data": {
            "application/vnd.jupyter.widget-view+json": {
              "model_id": "cc48f20ed5514d42bc52ef66ef60b167",
              "version_major": 2,
              "version_minor": 0
            },
            "text/plain": [
              "  0%|          | 0/1506 [00:00<?, ?it/s]"
            ]
          },
          "metadata": {},
          "output_type": "display_data"
        },
        {
          "data": {
            "application/vnd.jupyter.widget-view+json": {
              "model_id": "5cc3a898b0254dc997051ccbf6962167",
              "version_major": 2,
              "version_minor": 0
            },
            "text/plain": [
              "  0%|          | 0/189 [00:00<?, ?it/s]"
            ]
          },
          "metadata": {},
          "output_type": "display_data"
        },
        {
          "name": "stdout",
          "output_type": "stream",
          "text": [
            "\n",
            "The best LOSS: 0.4785001954388997 for fold 4 was achieved on epoch: 2.\n",
            "The Best saved model is: roberta-base_2_epoch_f4.pth\n",
            "******************** Training Fold: 5 ********************\n"
          ]
        },
        {
          "data": {
            "application/vnd.jupyter.widget-view+json": {
              "model_id": "b3a32ae21dc249ca83d614b7057984e4",
              "version_major": 2,
              "version_minor": 0
            },
            "text/plain": [
              "  0%|          | 0/1506 [00:00<?, ?it/s]"
            ]
          },
          "metadata": {},
          "output_type": "display_data"
        },
        {
          "data": {
            "application/vnd.jupyter.widget-view+json": {
              "model_id": "8068f8def8af46be86fa387d56e725f2",
              "version_major": 2,
              "version_minor": 0
            },
            "text/plain": [
              "  0%|          | 0/189 [00:00<?, ?it/s]"
            ]
          },
          "metadata": {},
          "output_type": "display_data"
        },
        {
          "data": {
            "application/vnd.jupyter.widget-view+json": {
              "model_id": "6226e62a7eee484a94301e47efce3a87",
              "version_major": 2,
              "version_minor": 0
            },
            "text/plain": [
              "  0%|          | 0/1506 [00:00<?, ?it/s]"
            ]
          },
          "metadata": {},
          "output_type": "display_data"
        },
        {
          "data": {
            "application/vnd.jupyter.widget-view+json": {
              "model_id": "6781b8b53f3342509cf5865ce6966b35",
              "version_major": 2,
              "version_minor": 0
            },
            "text/plain": [
              "  0%|          | 0/189 [00:00<?, ?it/s]"
            ]
          },
          "metadata": {},
          "output_type": "display_data"
        },
        {
          "data": {
            "application/vnd.jupyter.widget-view+json": {
              "model_id": "fbb29f6c0dcf4472a440c683ccd5bcea",
              "version_major": 2,
              "version_minor": 0
            },
            "text/plain": [
              "  0%|          | 0/1506 [00:00<?, ?it/s]"
            ]
          },
          "metadata": {},
          "output_type": "display_data"
        },
        {
          "data": {
            "application/vnd.jupyter.widget-view+json": {
              "model_id": "084a3c783af24cc08b923831e3e9f10d",
              "version_major": 2,
              "version_minor": 0
            },
            "text/plain": [
              "  0%|          | 0/189 [00:00<?, ?it/s]"
            ]
          },
          "metadata": {},
          "output_type": "display_data"
        },
        {
          "name": "stdout",
          "output_type": "stream",
          "text": [
            "\n",
            "The best LOSS: 0.47197202943935596 for fold 5 was achieved on epoch: 2.\n",
            "The Best saved model is: roberta-base_2_epoch_f5.pth\n"
          ]
        }
      ],
      "source": [
        "gc.collect()\n",
        "for fold in range(params['num_folds']):\n",
        "    print(f'******************** Training Fold: {fold+1} ********************')\n",
        "    current_fold = fold\n",
        "    df_train = train_df[train_df['kfold'] != current_fold].copy()\n",
        "    df_valid = train_df[train_df['kfold'] == current_fold].copy()\n",
        "\n",
        "    train_dataset = BERTDataset(\n",
        "        df_train.more_toxic.values,\n",
        "        df_train.less_toxic.values\n",
        "    )\n",
        "    valid_dataset = BERTDataset(\n",
        "        df_valid.more_toxic.values,\n",
        "        df_valid.less_toxic.values\n",
        "    )\n",
        "\n",
        "    train_dataloader = DataLoader(\n",
        "        train_dataset, batch_size=params['batch_size'], shuffle=True,\n",
        "        num_workers=params['num_workers'], pin_memory=True\n",
        "    )\n",
        "    valid_dataloader = DataLoader(\n",
        "        valid_dataset, batch_size=params['batch_size']*2, shuffle=False,\n",
        "        num_workers=params['num_workers'], pin_memory=True\n",
        "    )\n",
        "    \n",
        "    model = ToxicityModel()\n",
        "    model = model.to(params['device'])\n",
        "    criterion = nn.MarginRankingLoss(margin=params['margin'])\n",
        "    if params['no_decay']:\n",
        "        param_optimizer = list(model.named_parameters())\n",
        "        no_decay = ['bias', 'LayerNorm.weight', 'LayerNorm.bias']\n",
        "        optimizer_grouped_parameters = [\n",
        "            {'params': [p for n, p in model.named_parameters() if not any(nd in n for nd in no_decay)], 'weight_decay': 0.01},\n",
        "            {'params': [p for n, p in model.named_parameters() if any(nd in n for nd in no_decay)], 'weight_decay': 0.0}\n",
        "        ]\n",
        "        optimizer = optim.AdamW(optimizer_grouped_parameters, lr=params['lr'])\n",
        "    else:\n",
        "        optimizer = optim.AdamW(model.parameters(), lr=params['lr'])\n",
        "    scheduler = get_scheduler(optimizer)\n",
        "\n",
        "    best_loss = np.inf\n",
        "    best_epoch = 0\n",
        "    best_model_name = None\n",
        "    for epoch in range(1, params['epochs'] + 1):\n",
        "        train_fn(train_dataloader, model, criterion, optimizer, epoch, params, scheduler)\n",
        "        valid_loss = validate_fn(valid_dataloader, model, criterion, epoch, params)\n",
        "        if valid_loss <= best_loss:\n",
        "            best_loss = valid_loss\n",
        "            best_epoch = epoch\n",
        "            if best_model_name is not None:\n",
        "                os.remove(best_model_name)\n",
        "            torch.save(model.state_dict(), f\"{params['checkpoint']}_{epoch}_epoch_f{fold+1}.pth\")\n",
        "            best_model_name = f\"{params['checkpoint']}_{epoch}_epoch_f{fold+1}.pth\"\n",
        "\n",
        "\n",
        "    print('')\n",
        "    print(f'The best LOSS: {best_loss} for fold {fold+1} was achieved on epoch: {best_epoch}.')\n",
        "    print(f'The Best saved model is: {best_model_name}')\n",
        "    best_models_of_each_fold.append(best_model_name)\n",
        "    del df_train, df_valid, train_dataset, valid_dataset, train_dataloader, valid_dataloader, model\n",
        "    _ = gc.collect()\n",
        "    torch.cuda.empty_cache()"
      ]
    },
    {
      "cell_type": "code",
      "execution_count": null,
      "id": "5e2dda9e",
      "metadata": {
        "execution": {
          "iopub.execute_input": "2021-11-23T20:49:28.471355Z",
          "iopub.status.busy": "2021-11-23T20:49:28.470492Z",
          "iopub.status.idle": "2021-11-23T20:49:28.474063Z",
          "shell.execute_reply": "2021-11-23T20:49:28.473510Z",
          "shell.execute_reply.started": "2021-11-09T15:19:41.503136Z"
        },
        "id": "5e2dda9e",
        "papermill": {
          "duration": 0.047245,
          "end_time": "2021-11-23T20:49:28.474178",
          "exception": false,
          "start_time": "2021-11-23T20:49:28.426933",
          "status": "completed"
        },
        "tags": [],
        "outputId": "9a10bfc1-260b-49b2-faf7-ead71fbf140d"
      },
      "outputs": [
        {
          "name": "stdout",
          "output_type": "stream",
          "text": [
            "Best model of fold 1: roberta-base_2_epoch_f1.pth\n",
            "Best model of fold 2: roberta-base_1_epoch_f2.pth\n",
            "Best model of fold 3: roberta-base_2_epoch_f3.pth\n",
            "Best model of fold 4: roberta-base_2_epoch_f4.pth\n",
            "Best model of fold 5: roberta-base_2_epoch_f5.pth\n"
          ]
        }
      ],
      "source": [
        "for i, name in enumerate(best_models_of_each_fold):\n",
        "    print(f'Best model of fold {i+1}: {name}')"
      ]
    },
    {
      "cell_type": "code",
      "execution_count": null,
      "metadata": {
        "execution": {
          "iopub.execute_input": "2021-11-10T04:25:49.116692Z",
          "iopub.status.busy": "2021-11-10T04:25:49.116139Z",
          "iopub.status.idle": "2021-11-10T04:32:19.702302Z",
          "shell.execute_reply": "2021-11-10T04:32:19.702730Z",
          "shell.execute_reply.started": "2021-11-10T04:24:47.238261Z"
        },
        "papermill": {
          "duration": 390.610786,
          "end_time": "2021-11-10T04:32:19.702913",
          "exception": false,
          "start_time": "2021-11-10T04:25:49.092127",
          "status": "completed"
        },
        "tags": [],
        "id": "0a230568",
        "outputId": "d854da29-7c57-45c3-8ce2-24dc28a59ed0",
        "colab": {
          "referenced_widgets": [
            "1e0bba9ddec7403d98cc78c6cf860574",
            "78cdb79810cc4443b5ad69502f705a5c",
            "55442b78148346bbb05ea89beae9854b",
            "f82a77439d084253a59e0dfbd266f994",
            "50b6ef09c77540c3b9f51c02b1ca54af"
          ]
        }
      },
      "outputs": [
        {
          "data": {
            "application/vnd.jupyter.widget-view+json": {
              "model_id": "1e0bba9ddec7403d98cc78c6cf860574",
              "version_major": 2,
              "version_minor": 0
            },
            "text/plain": [
              "Predicting. :   0%|          | 0/236 [00:00<?, ?it/s]"
            ]
          },
          "metadata": {},
          "output_type": "display_data"
        },
        {
          "data": {
            "application/vnd.jupyter.widget-view+json": {
              "model_id": "78cdb79810cc4443b5ad69502f705a5c",
              "version_major": 2,
              "version_minor": 0
            },
            "text/plain": [
              "Predicting. :   0%|          | 0/236 [00:00<?, ?it/s]"
            ]
          },
          "metadata": {},
          "output_type": "display_data"
        },
        {
          "data": {
            "application/vnd.jupyter.widget-view+json": {
              "model_id": "55442b78148346bbb05ea89beae9854b",
              "version_major": 2,
              "version_minor": 0
            },
            "text/plain": [
              "Predicting. :   0%|          | 0/236 [00:00<?, ?it/s]"
            ]
          },
          "metadata": {},
          "output_type": "display_data"
        },
        {
          "data": {
            "application/vnd.jupyter.widget-view+json": {
              "model_id": "f82a77439d084253a59e0dfbd266f994",
              "version_major": 2,
              "version_minor": 0
            },
            "text/plain": [
              "Predicting. :   0%|          | 0/236 [00:00<?, ?it/s]"
            ]
          },
          "metadata": {},
          "output_type": "display_data"
        },
        {
          "data": {
            "application/vnd.jupyter.widget-view+json": {
              "model_id": "50b6ef09c77540c3b9f51c02b1ca54af",
              "version_major": 2,
              "version_minor": 0
            },
            "text/plain": [
              "Predicting. :   0%|          | 0/236 [00:00<?, ?it/s]"
            ]
          },
          "metadata": {},
          "output_type": "display_data"
        }
      ],
      "source": [
        "predictions_nn = None\n",
        "for model_name in glob.glob(best_models_of_each_fold + '/*.pth'):\n",
        "    model = ToxicityModel()\n",
        "    model.load_state_dict(torch.load(model_name))\n",
        "    model = model.to(params['device'])\n",
        "    model.eval()\n",
        "\n",
        "    test_dataset = BERTDataset(\n",
        "        text = test_df['text'].values\n",
        "    )\n",
        "    test_loader = DataLoader(\n",
        "        test_dataset, batch_size=params['batch_size'],\n",
        "        shuffle=False, num_workers=params['num_workers'],\n",
        "        pin_memory=True\n",
        "    )\n",
        "\n",
        "    temp_preds = None\n",
        "    with torch.no_grad():\n",
        "        for batch in tqdm(test_loader, desc=f'Predicting. '):\n",
        "            ids= batch['ids'].to(device)\n",
        "            mask = batch['mask'].to(device)\n",
        "            token_type_ids = batch['token_type_ids'].to(device)\n",
        "            predictions = model(ids, token_type_ids, mask).to('cpu').numpy()\n",
        "            \n",
        "            if temp_preds is None:\n",
        "                temp_preds = predictions\n",
        "            else:\n",
        "                temp_preds = np.vstack((temp_preds, predictions))\n",
        "\n",
        "    if predictions_nn is None:\n",
        "        predictions_nn = temp_preds\n",
        "    else:\n",
        "        predictions_nn += temp_preds\n",
        "        \n",
        "predictions_nn /= (len(glob.glob(models_dir + '/*.pth')))"
      ],
      "id": "0a230568"
    },
    {
      "cell_type": "code",
      "source": [
        "sub_df = pd.DataFrame()\n",
        "sub_df['comment_id'] = test_df['comment_id']\n",
        "sub_df['score'] = predictions_nn\n",
        "sub_df['score'] = sub_df['score'].rank(method='first')"
      ],
      "metadata": {
        "id": "-WVFxCoSOmd_"
      },
      "id": "-WVFxCoSOmd_",
      "execution_count": null,
      "outputs": []
    },
    {
      "cell_type": "code",
      "source": [
        "sub_df.to_csv('submission.csv', index=False)"
      ],
      "metadata": {
        "id": "CelwD0RVOqO5"
      },
      "id": "CelwD0RVOqO5",
      "execution_count": null,
      "outputs": []
    }
  ],
  "metadata": {
    "kernelspec": {
      "display_name": "Python 3",
      "language": "python",
      "name": "python3"
    },
    "language_info": {
      "codemirror_mode": {
        "name": "ipython",
        "version": 3
      },
      "file_extension": ".py",
      "mimetype": "text/x-python",
      "name": "python",
      "nbconvert_exporter": "python",
      "pygments_lexer": "ipython3",
      "version": "3.7.10"
    },
    "papermill": {
      "default_parameters": {},
      "duration": 19746.565401,
      "end_time": "2021-11-23T20:49:31.771671",
      "environment_variables": {},
      "exception": null,
      "input_path": "__notebook__.ipynb",
      "output_path": "__notebook__.ipynb",
      "parameters": {},
      "start_time": "2021-11-23T15:20:25.206270",
      "version": "2.3.3"
    },
    "colab": {
      "name": "Jigsaw_competition.ipynb",
      "provenance": [],
      "collapsed_sections": []
    }
  },
  "nbformat": 4,
  "nbformat_minor": 5
}